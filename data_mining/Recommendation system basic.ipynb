{
 "cells": [
  {
   "cell_type": "markdown",
   "metadata": {},
   "source": [
    "Users data a python dictionary"
   ]
  },
  {
   "cell_type": "code",
   "execution_count": 20,
   "metadata": {},
   "outputs": [],
   "source": [
    "users = {\n",
    "    \"Angelica\": {\n",
    "        \"Blues Traveler\": 3.5, \n",
    "        \"Broken Bells\": 2.0, \n",
    "        \"Norah Jones\": 4.5, \n",
    "        \"Phoenix\": 5.0,\n",
    "        \"Slightly Stoopid\": 1.5,\n",
    "        \"The Strokes\": 2.5, \n",
    "        \"Vampire Weekend\": 2.0},\n",
    "    \"Bill\": {\n",
    "        \"Blues Traveler\": 2.0, \n",
    "        \"Broken Bells\": 3.5,\n",
    "        \"Deadmau5\": 4.0, \n",
    "        \"Phoenix\": 2.0,\n",
    "        \"Slightly Stoopid\": 3.5, \n",
    "        \"Vampire Weekend\": 3.0\n",
    "         },\n",
    "    \"Chan\": {\n",
    "        \"Blues Traveler\": 5.0, \n",
    "        \"Broken Bells\": 1.0,\n",
    "        \"Deadmau5\": 1.0, \n",
    "        \"Norah Jones\": 3.0,\n",
    "        \"Phoenix\": 5, \n",
    "        \"Slightly Stoopid\": 1.0\n",
    "        \n",
    "    },\n",
    "    \"Dan\": {\n",
    "        \"Blues Traveler\": 3.0, \n",
    "        \"Broken Bells\": 4.0,\n",
    "        \"Deadmau5\": 4.5, \n",
    "        \"Phoenix\": 3.0,\n",
    "        \"Slightly Stoopid\": 4.5, \n",
    "        \"The Strokes\": 4.0,\n",
    "        \"Vampire Weekend\": 2.0\n",
    "    },\n",
    "    \"Hailey\": {\n",
    "        \"Broken Bells\": 4.0, \n",
    "        \"Deadmau5\": 1.0,\n",
    "        \"Norah Jones\": 4.0, \n",
    "        \"The Strokes\": 4.0,\n",
    "        \"Vampire Weekend\": 1.0\n",
    "        \n",
    "    },\n",
    "    \"Jordyn\": {\n",
    "        \"Broken Bells\": 4.5, \n",
    "        \"Deadmau5\": 4.0, \n",
    "        \"Norah Jones\": 5.0,\n",
    "        \"Phoenix\": 5.0, \n",
    "        \"Slightly Stoopid\": 4.5,\n",
    "        \"The Strokes\": 4.0, \n",
    "        \"Vampire Weekend\": 4.0\n",
    "        \n",
    "    },\n",
    "    \"Sam\" : {\n",
    "        \"Blues Traveler\": 5.0, \n",
    "        \"Broken Bells\": 2.0,\n",
    "        \"Norah Jones\": 3.0, \n",
    "        \"Phoenix\": 5.0,\n",
    "        \"Slightly Stoopid\": 4.0, \n",
    "        \"The Strokes\": 5.0\n",
    "        \n",
    "    }, \n",
    "    \"Veronica\" : {\n",
    "        \"Blues Traveler\": 3.0, \n",
    "        \"Norah Jones\": 5.0,\n",
    "        \"Phoenix\": 4.0, \n",
    "        \"Slightly Stoopid\": 2.5,\n",
    "        \"The Strokes\": 3.0\n",
    "        \n",
    "    }}"
   ]
  },
  {
   "cell_type": "code",
   "execution_count": 21,
   "metadata": {},
   "outputs": [
    {
     "data": {
      "text/plain": [
       "{'Blues Traveler': 5.0,\n",
       " 'Broken Bells': 2.0,\n",
       " 'Norah Jones': 3.0,\n",
       " 'Phoenix': 5.0,\n",
       " 'Slightly Stoopid': 4.0,\n",
       " 'The Strokes': 5.0}"
      ]
     },
     "execution_count": 21,
     "metadata": {},
     "output_type": "execute_result"
    }
   ],
   "source": [
    "users['Sam']"
   ]
  },
  {
   "cell_type": "code",
   "execution_count": 22,
   "metadata": {},
   "outputs": [],
   "source": [
    "def manhatton(rating1, rating2):\n",
    "    distance = 0\n",
    "    for key in rating1:\n",
    "        if key in rating2:\n",
    "            distance += abs(rating1[key] - rating2[key] )\n",
    "    return distance        \n"
   ]
  },
  {
   "cell_type": "code",
   "execution_count": 23,
   "metadata": {},
   "outputs": [
    {
     "data": {
      "text/plain": [
       "8.5"
      ]
     },
     "execution_count": 23,
     "metadata": {},
     "output_type": "execute_result"
    }
   ],
   "source": [
    "#testing the manhatton distance of two user\n",
    "manhatton(users['Sam'], users['Veronica'])"
   ]
  },
  {
   "cell_type": "code",
   "execution_count": 24,
   "metadata": {},
   "outputs": [],
   "source": [
    "def computeNearestNeighbor(username, users):\n",
    "    \"\"\"creates a sorted list of users based on their distance to\n",
    "username\"\"\"\n",
    "    distances = []\n",
    "    for user in users:\n",
    "        if user != username:\n",
    "            distance = manhatton(users[user], users[username])\n",
    "            distances.append((distance, user))\n",
    "    distances.sort()\n",
    "    return distances\n",
    "   "
   ]
  },
  {
   "cell_type": "code",
   "execution_count": 25,
   "metadata": {},
   "outputs": [
    {
     "data": {
      "text/plain": [
       "[(4.0, 'Chan'),\n",
       " (4.0, 'Hailey'),\n",
       " (6.0, 'Jordyn'),\n",
       " (7.5, 'Dan'),\n",
       " (8.0, 'Angelica'),\n",
       " (8.0, 'Bill'),\n",
       " (8.5, 'Veronica')]"
      ]
     },
     "execution_count": 25,
     "metadata": {},
     "output_type": "execute_result"
    }
   ],
   "source": [
    "#quick test for the function\n",
    "computeNearestNeighbor('Sam', users)"
   ]
  },
  {
   "cell_type": "code",
   "execution_count": 26,
   "metadata": {},
   "outputs": [],
   "source": [
    "from math import sqrt\n",
    "def recommend(username, users):\n",
    "    \"\"\"Give list of recommendations\"\"\"\n",
    "    # first find nearest neighbor\n",
    "    nearest = computeNearestNeighbor(username, users)[0][1]\n",
    "    #print(nearest)\n",
    "    recommendations = []\n",
    "    # now find bands neighbor rated that user didn't\n",
    "    neighborRatings = users[nearest]\n",
    "    userRatings = users[username]\n",
    "    for artist in neighborRatings:\n",
    "        if not artist in userRatings:\n",
    "            recommendations.append((artist, neighborRatings[artist]))\n",
    "    # using the fn sorted for variety - sort is more efficient\n",
    "    return sorted(recommendations, key=lambda artistTuple: artistTuple[1], reverse = True)"
   ]
  },
  {
   "cell_type": "code",
   "execution_count": 27,
   "metadata": {},
   "outputs": [
    {
     "name": "stdout",
     "output_type": "stream",
     "text": [
      "[('Deadmau5', 1.0)]\n"
     ]
    }
   ],
   "source": [
    "print( recommend('Sam', users))"
   ]
  },
  {
   "cell_type": "code",
   "execution_count": 28,
   "metadata": {},
   "outputs": [],
   "source": [
    "def minkowski(rating1, rating2, r):\n",
    "    distance = 0\n",
    "    commonRating = False\n",
    "    for key in rating1:\n",
    "        if key in rating2:\n",
    "            distance += pow(abs(rating1[key] - rating2[key] ),r)\n",
    "            commonRating = True\n",
    "    if commonRating: \n",
    "        return pow(distance, 1/r)\n",
    "    else: \n",
    "        return 0\n",
    "   \n",
    "def computeNearestNeighbor(username, users):\n",
    "    \"\"\"creates a sorted list of users based on their distance to\n",
    "username\"\"\"\n",
    "    distances = []\n",
    "    for user in users:\n",
    "        if user != username:\n",
    "            distance = minkowski(users[user], users[username], 2)\n",
    "            distances.append((distance, user))\n",
    "    distances.sort()\n",
    "    return distances"
   ]
  },
  {
   "cell_type": "code",
   "execution_count": null,
   "metadata": {},
   "outputs": [],
   "source": []
  }
 ],
 "metadata": {
  "kernelspec": {
   "display_name": "Python 3",
   "language": "python",
   "name": "python3"
  },
  "language_info": {
   "codemirror_mode": {
    "name": "ipython",
    "version": 3
   },
   "file_extension": ".py",
   "mimetype": "text/x-python",
   "name": "python",
   "nbconvert_exporter": "python",
   "pygments_lexer": "ipython3",
   "version": "3.6.4"
  }
 },
 "nbformat": 4,
 "nbformat_minor": 2
}
